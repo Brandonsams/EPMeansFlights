{
 "cells": [
  {
   "cell_type": "code",
   "execution_count": 1,
   "id": "recognized-danger",
   "metadata": {},
   "outputs": [],
   "source": [
    "import pandas as pd\n",
    "import matplotlib.pyplot as plt\n",
    "import numpy as np\n",
    "import random\n",
    "import warnings\n",
    "import matplotlib.cbook\n",
    "from IPython.display import clear_output\n",
    "warnings.filterwarnings(\"ignore\",category=matplotlib.cbook.mplDeprecation)\n",
    "\n",
    "pd.set_option('display.max_columns', None)\n",
    "%matplotlib inline"
   ]
  },
  {
   "cell_type": "code",
   "execution_count": 2,
   "id": "sacred-coordinate",
   "metadata": {},
   "outputs": [],
   "source": [
    "df = pd.read_csv(\"./rawdata/archive/2009.csv\")#,nrows=999999)\n",
    "\n",
    "# df = pd.read_csv(\"./rawdata/decade_flights_RAW.csv\")#,nrows=99999999)"
   ]
  },
  {
   "cell_type": "code",
   "execution_count": 3,
   "id": "structured-kansas",
   "metadata": {},
   "outputs": [],
   "source": [
    "# path = \"./rawdata/archive\" # use your path\n",
    "  \n",
    "# # all_files = glob.glob(path + \"/*.csv\")\n",
    "# years = range(2009,2019)\n",
    "# li = []\n",
    "# for year in years:\n",
    "#     print(year)\n",
    "#     frame = pd.read_csv(f\"{path}/{year}.csv\", index_col=None, header=0)\n",
    "#     li.append(frame)\n",
    "# df = pd.concat(li, axis=0, ignore_index=True)"
   ]
  },
  {
   "cell_type": "code",
   "execution_count": 4,
   "id": "recognized-james",
   "metadata": {},
   "outputs": [
    {
     "data": {
      "text/html": [
       "<div>\n",
       "<style scoped>\n",
       "    .dataframe tbody tr th:only-of-type {\n",
       "        vertical-align: middle;\n",
       "    }\n",
       "\n",
       "    .dataframe tbody tr th {\n",
       "        vertical-align: top;\n",
       "    }\n",
       "\n",
       "    .dataframe thead th {\n",
       "        text-align: right;\n",
       "    }\n",
       "</style>\n",
       "<table border=\"1\" class=\"dataframe\">\n",
       "  <thead>\n",
       "    <tr style=\"text-align: right;\">\n",
       "      <th></th>\n",
       "      <th>FL_DATE</th>\n",
       "      <th>OP_CARRIER</th>\n",
       "      <th>OP_CARRIER_FL_NUM</th>\n",
       "      <th>ORIGIN</th>\n",
       "      <th>DEST</th>\n",
       "      <th>CRS_DEP_TIME</th>\n",
       "      <th>DEP_TIME</th>\n",
       "      <th>DEP_DELAY</th>\n",
       "      <th>TAXI_OUT</th>\n",
       "      <th>WHEELS_OFF</th>\n",
       "      <th>WHEELS_ON</th>\n",
       "      <th>TAXI_IN</th>\n",
       "      <th>CRS_ARR_TIME</th>\n",
       "      <th>ARR_TIME</th>\n",
       "      <th>ARR_DELAY</th>\n",
       "      <th>CANCELLED</th>\n",
       "      <th>CANCELLATION_CODE</th>\n",
       "      <th>DIVERTED</th>\n",
       "      <th>CRS_ELAPSED_TIME</th>\n",
       "      <th>ACTUAL_ELAPSED_TIME</th>\n",
       "      <th>AIR_TIME</th>\n",
       "      <th>DISTANCE</th>\n",
       "      <th>CARRIER_DELAY</th>\n",
       "      <th>WEATHER_DELAY</th>\n",
       "      <th>NAS_DELAY</th>\n",
       "      <th>SECURITY_DELAY</th>\n",
       "      <th>LATE_AIRCRAFT_DELAY</th>\n",
       "      <th>Unnamed: 27</th>\n",
       "    </tr>\n",
       "  </thead>\n",
       "  <tbody>\n",
       "    <tr>\n",
       "      <th>0</th>\n",
       "      <td>2009-01-01</td>\n",
       "      <td>XE</td>\n",
       "      <td>1204</td>\n",
       "      <td>DCA</td>\n",
       "      <td>EWR</td>\n",
       "      <td>1100</td>\n",
       "      <td>1058.0</td>\n",
       "      <td>-2.0</td>\n",
       "      <td>18.0</td>\n",
       "      <td>1116.0</td>\n",
       "      <td>1158.0</td>\n",
       "      <td>8.0</td>\n",
       "      <td>1202</td>\n",
       "      <td>1206.0</td>\n",
       "      <td>4.0</td>\n",
       "      <td>0.0</td>\n",
       "      <td>NaN</td>\n",
       "      <td>0.0</td>\n",
       "      <td>62.0</td>\n",
       "      <td>68.0</td>\n",
       "      <td>42.0</td>\n",
       "      <td>199.0</td>\n",
       "      <td>NaN</td>\n",
       "      <td>NaN</td>\n",
       "      <td>NaN</td>\n",
       "      <td>NaN</td>\n",
       "      <td>NaN</td>\n",
       "      <td>NaN</td>\n",
       "    </tr>\n",
       "    <tr>\n",
       "      <th>1</th>\n",
       "      <td>2009-01-01</td>\n",
       "      <td>XE</td>\n",
       "      <td>1206</td>\n",
       "      <td>EWR</td>\n",
       "      <td>IAD</td>\n",
       "      <td>1510</td>\n",
       "      <td>1509.0</td>\n",
       "      <td>-1.0</td>\n",
       "      <td>28.0</td>\n",
       "      <td>1537.0</td>\n",
       "      <td>1620.0</td>\n",
       "      <td>4.0</td>\n",
       "      <td>1632</td>\n",
       "      <td>1624.0</td>\n",
       "      <td>-8.0</td>\n",
       "      <td>0.0</td>\n",
       "      <td>NaN</td>\n",
       "      <td>0.0</td>\n",
       "      <td>82.0</td>\n",
       "      <td>75.0</td>\n",
       "      <td>43.0</td>\n",
       "      <td>213.0</td>\n",
       "      <td>NaN</td>\n",
       "      <td>NaN</td>\n",
       "      <td>NaN</td>\n",
       "      <td>NaN</td>\n",
       "      <td>NaN</td>\n",
       "      <td>NaN</td>\n",
       "    </tr>\n",
       "    <tr>\n",
       "      <th>2</th>\n",
       "      <td>2009-01-01</td>\n",
       "      <td>XE</td>\n",
       "      <td>1207</td>\n",
       "      <td>EWR</td>\n",
       "      <td>DCA</td>\n",
       "      <td>1100</td>\n",
       "      <td>1059.0</td>\n",
       "      <td>-1.0</td>\n",
       "      <td>20.0</td>\n",
       "      <td>1119.0</td>\n",
       "      <td>1155.0</td>\n",
       "      <td>6.0</td>\n",
       "      <td>1210</td>\n",
       "      <td>1201.0</td>\n",
       "      <td>-9.0</td>\n",
       "      <td>0.0</td>\n",
       "      <td>NaN</td>\n",
       "      <td>0.0</td>\n",
       "      <td>70.0</td>\n",
       "      <td>62.0</td>\n",
       "      <td>36.0</td>\n",
       "      <td>199.0</td>\n",
       "      <td>NaN</td>\n",
       "      <td>NaN</td>\n",
       "      <td>NaN</td>\n",
       "      <td>NaN</td>\n",
       "      <td>NaN</td>\n",
       "      <td>NaN</td>\n",
       "    </tr>\n",
       "    <tr>\n",
       "      <th>3</th>\n",
       "      <td>2009-01-01</td>\n",
       "      <td>XE</td>\n",
       "      <td>1208</td>\n",
       "      <td>DCA</td>\n",
       "      <td>EWR</td>\n",
       "      <td>1240</td>\n",
       "      <td>1249.0</td>\n",
       "      <td>9.0</td>\n",
       "      <td>10.0</td>\n",
       "      <td>1259.0</td>\n",
       "      <td>1336.0</td>\n",
       "      <td>9.0</td>\n",
       "      <td>1357</td>\n",
       "      <td>1345.0</td>\n",
       "      <td>-12.0</td>\n",
       "      <td>0.0</td>\n",
       "      <td>NaN</td>\n",
       "      <td>0.0</td>\n",
       "      <td>77.0</td>\n",
       "      <td>56.0</td>\n",
       "      <td>37.0</td>\n",
       "      <td>199.0</td>\n",
       "      <td>NaN</td>\n",
       "      <td>NaN</td>\n",
       "      <td>NaN</td>\n",
       "      <td>NaN</td>\n",
       "      <td>NaN</td>\n",
       "      <td>NaN</td>\n",
       "    </tr>\n",
       "    <tr>\n",
       "      <th>4</th>\n",
       "      <td>2009-01-01</td>\n",
       "      <td>XE</td>\n",
       "      <td>1209</td>\n",
       "      <td>IAD</td>\n",
       "      <td>EWR</td>\n",
       "      <td>1715</td>\n",
       "      <td>1705.0</td>\n",
       "      <td>-10.0</td>\n",
       "      <td>24.0</td>\n",
       "      <td>1729.0</td>\n",
       "      <td>1809.0</td>\n",
       "      <td>13.0</td>\n",
       "      <td>1900</td>\n",
       "      <td>1822.0</td>\n",
       "      <td>-38.0</td>\n",
       "      <td>0.0</td>\n",
       "      <td>NaN</td>\n",
       "      <td>0.0</td>\n",
       "      <td>105.0</td>\n",
       "      <td>77.0</td>\n",
       "      <td>40.0</td>\n",
       "      <td>213.0</td>\n",
       "      <td>NaN</td>\n",
       "      <td>NaN</td>\n",
       "      <td>NaN</td>\n",
       "      <td>NaN</td>\n",
       "      <td>NaN</td>\n",
       "      <td>NaN</td>\n",
       "    </tr>\n",
       "  </tbody>\n",
       "</table>\n",
       "</div>"
      ],
      "text/plain": [
       "      FL_DATE OP_CARRIER  OP_CARRIER_FL_NUM ORIGIN DEST  CRS_DEP_TIME  \\\n",
       "0  2009-01-01         XE               1204    DCA  EWR          1100   \n",
       "1  2009-01-01         XE               1206    EWR  IAD          1510   \n",
       "2  2009-01-01         XE               1207    EWR  DCA          1100   \n",
       "3  2009-01-01         XE               1208    DCA  EWR          1240   \n",
       "4  2009-01-01         XE               1209    IAD  EWR          1715   \n",
       "\n",
       "   DEP_TIME  DEP_DELAY  TAXI_OUT  WHEELS_OFF  WHEELS_ON  TAXI_IN  \\\n",
       "0    1058.0       -2.0      18.0      1116.0     1158.0      8.0   \n",
       "1    1509.0       -1.0      28.0      1537.0     1620.0      4.0   \n",
       "2    1059.0       -1.0      20.0      1119.0     1155.0      6.0   \n",
       "3    1249.0        9.0      10.0      1259.0     1336.0      9.0   \n",
       "4    1705.0      -10.0      24.0      1729.0     1809.0     13.0   \n",
       "\n",
       "   CRS_ARR_TIME  ARR_TIME  ARR_DELAY  CANCELLED CANCELLATION_CODE  DIVERTED  \\\n",
       "0          1202    1206.0        4.0        0.0               NaN       0.0   \n",
       "1          1632    1624.0       -8.0        0.0               NaN       0.0   \n",
       "2          1210    1201.0       -9.0        0.0               NaN       0.0   \n",
       "3          1357    1345.0      -12.0        0.0               NaN       0.0   \n",
       "4          1900    1822.0      -38.0        0.0               NaN       0.0   \n",
       "\n",
       "   CRS_ELAPSED_TIME  ACTUAL_ELAPSED_TIME  AIR_TIME  DISTANCE  CARRIER_DELAY  \\\n",
       "0              62.0                 68.0      42.0     199.0            NaN   \n",
       "1              82.0                 75.0      43.0     213.0            NaN   \n",
       "2              70.0                 62.0      36.0     199.0            NaN   \n",
       "3              77.0                 56.0      37.0     199.0            NaN   \n",
       "4             105.0                 77.0      40.0     213.0            NaN   \n",
       "\n",
       "   WEATHER_DELAY  NAS_DELAY  SECURITY_DELAY  LATE_AIRCRAFT_DELAY  Unnamed: 27  \n",
       "0            NaN        NaN             NaN                  NaN          NaN  \n",
       "1            NaN        NaN             NaN                  NaN          NaN  \n",
       "2            NaN        NaN             NaN                  NaN          NaN  \n",
       "3            NaN        NaN             NaN                  NaN          NaN  \n",
       "4            NaN        NaN             NaN                  NaN          NaN  "
      ]
     },
     "execution_count": 4,
     "metadata": {},
     "output_type": "execute_result"
    }
   ],
   "source": [
    "df.head()"
   ]
  },
  {
   "cell_type": "code",
   "execution_count": 5,
   "id": "posted-leave",
   "metadata": {},
   "outputs": [],
   "source": [
    "df[\"ROUTE\"] = df[\"ORIGIN\"] + \" --> \" + df[\"DEST\"]\n",
    "df.drop(df.columns.difference([\"FL_DATE\",\n",
    "                               \"OP_CARRIER\",\n",
    "                               \"ORIGIN\",\n",
    "                               \"DEST\",\n",
    "                               \"CRS_ELAPSED_TIME\",\n",
    "                               \"ACTUAL_ELAPSED_TIME\",\n",
    "                               \"AIR_TIME\",\n",
    "                               \"DISTANCE\",\n",
    "                               \"ROUTE\"]),\n",
    "        1, inplace=True)\n",
    "\n",
    "df = df.dropna(subset=['CRS_ELAPSED_TIME', 'ACTUAL_ELAPSED_TIME', 'AIR_TIME', 'DISTANCE'])\n",
    "\n",
    "df = df.astype({\"CRS_ELAPSED_TIME\": int, \"ACTUAL_ELAPSED_TIME\": int,\"AIR_TIME\": int,\"DISTANCE\": int})\n",
    "\n",
    "df = df[df.groupby('ROUTE').ROUTE.transform(len) > 1000]"
   ]
  },
  {
   "cell_type": "code",
   "execution_count": 6,
   "id": "reflected-twelve",
   "metadata": {},
   "outputs": [],
   "source": [
    "# df.to_csv(\"decade_flights.csv\")"
   ]
  },
  {
   "cell_type": "code",
   "execution_count": 7,
   "id": "urban-tanzania",
   "metadata": {},
   "outputs": [
    {
     "data": {
      "text/html": [
       "<div>\n",
       "<style scoped>\n",
       "    .dataframe tbody tr th:only-of-type {\n",
       "        vertical-align: middle;\n",
       "    }\n",
       "\n",
       "    .dataframe tbody tr th {\n",
       "        vertical-align: top;\n",
       "    }\n",
       "\n",
       "    .dataframe thead th {\n",
       "        text-align: right;\n",
       "    }\n",
       "</style>\n",
       "<table border=\"1\" class=\"dataframe\">\n",
       "  <thead>\n",
       "    <tr style=\"text-align: right;\">\n",
       "      <th></th>\n",
       "      <th>FL_DATE</th>\n",
       "      <th>OP_CARRIER</th>\n",
       "      <th>ORIGIN</th>\n",
       "      <th>DEST</th>\n",
       "      <th>CRS_ELAPSED_TIME</th>\n",
       "      <th>ACTUAL_ELAPSED_TIME</th>\n",
       "      <th>AIR_TIME</th>\n",
       "      <th>DISTANCE</th>\n",
       "      <th>ROUTE</th>\n",
       "    </tr>\n",
       "  </thead>\n",
       "  <tbody>\n",
       "    <tr>\n",
       "      <th>0</th>\n",
       "      <td>2009-01-01</td>\n",
       "      <td>XE</td>\n",
       "      <td>DCA</td>\n",
       "      <td>EWR</td>\n",
       "      <td>62</td>\n",
       "      <td>68</td>\n",
       "      <td>42</td>\n",
       "      <td>199</td>\n",
       "      <td>DCA --&gt; EWR</td>\n",
       "    </tr>\n",
       "    <tr>\n",
       "      <th>2</th>\n",
       "      <td>2009-01-01</td>\n",
       "      <td>XE</td>\n",
       "      <td>EWR</td>\n",
       "      <td>DCA</td>\n",
       "      <td>70</td>\n",
       "      <td>62</td>\n",
       "      <td>36</td>\n",
       "      <td>199</td>\n",
       "      <td>EWR --&gt; DCA</td>\n",
       "    </tr>\n",
       "    <tr>\n",
       "      <th>3</th>\n",
       "      <td>2009-01-01</td>\n",
       "      <td>XE</td>\n",
       "      <td>DCA</td>\n",
       "      <td>EWR</td>\n",
       "      <td>77</td>\n",
       "      <td>56</td>\n",
       "      <td>37</td>\n",
       "      <td>199</td>\n",
       "      <td>DCA --&gt; EWR</td>\n",
       "    </tr>\n",
       "    <tr>\n",
       "      <th>5</th>\n",
       "      <td>2009-01-01</td>\n",
       "      <td>XE</td>\n",
       "      <td>ATL</td>\n",
       "      <td>EWR</td>\n",
       "      <td>147</td>\n",
       "      <td>130</td>\n",
       "      <td>96</td>\n",
       "      <td>745</td>\n",
       "      <td>ATL --&gt; EWR</td>\n",
       "    </tr>\n",
       "    <tr>\n",
       "      <th>6</th>\n",
       "      <td>2009-01-01</td>\n",
       "      <td>XE</td>\n",
       "      <td>CLE</td>\n",
       "      <td>ATL</td>\n",
       "      <td>117</td>\n",
       "      <td>108</td>\n",
       "      <td>91</td>\n",
       "      <td>554</td>\n",
       "      <td>CLE --&gt; ATL</td>\n",
       "    </tr>\n",
       "  </tbody>\n",
       "</table>\n",
       "</div>"
      ],
      "text/plain": [
       "      FL_DATE OP_CARRIER ORIGIN DEST  CRS_ELAPSED_TIME  ACTUAL_ELAPSED_TIME  \\\n",
       "0  2009-01-01         XE    DCA  EWR                62                   68   \n",
       "2  2009-01-01         XE    EWR  DCA                70                   62   \n",
       "3  2009-01-01         XE    DCA  EWR                77                   56   \n",
       "5  2009-01-01         XE    ATL  EWR               147                  130   \n",
       "6  2009-01-01         XE    CLE  ATL               117                  108   \n",
       "\n",
       "   AIR_TIME  DISTANCE        ROUTE  \n",
       "0        42       199  DCA --> EWR  \n",
       "2        36       199  EWR --> DCA  \n",
       "3        37       199  DCA --> EWR  \n",
       "5        96       745  ATL --> EWR  \n",
       "6        91       554  CLE --> ATL  "
      ]
     },
     "execution_count": 7,
     "metadata": {},
     "output_type": "execute_result"
    }
   ],
   "source": [
    "df.head()"
   ]
  },
  {
   "cell_type": "code",
   "execution_count": 8,
   "id": "prescribed-politics",
   "metadata": {},
   "outputs": [
    {
     "name": "stdout",
     "output_type": "stream",
     "text": [
      "DCA --> EWR\n",
      "EWR --> DCA\n",
      "ATL --> EWR\n",
      "CLE --> ATL\n"
     ]
    },
    {
     "data": {
      "image/png": "[encoded data removed]",
      "text/plain": [
       "<Figure size 1080x1080 with 4 Axes>"
      ]
     },
     "metadata": {
      "needs_background": "light"
     },
     "output_type": "display_data"
    }
   ],
   "source": [
    "plot_count = 4\n",
    "fig, axs = plt.subplots(plot_count,figsize=(15,15))\n",
    "\n",
    "i = 0\n",
    "for route in df.ROUTE.unique().tolist()[:plot_count]:\n",
    "    print(route)\n",
    "    df[df['ROUTE'] == route].hist(\n",
    "        column='ACTUAL_ELAPSED_TIME', \n",
    "        bins=100,\n",
    "        grid=False,\n",
    "        figsize=(12,8),\n",
    "        color='#86bf91',\n",
    "        zorder=2,\n",
    "        rwidth=0.9,\n",
    "        ax=axs[i],\n",
    "        sharex=\"row\"\n",
    "    )\n",
    "    axs[i].title.set_text(\"Flight Duration: \" + route)\n",
    "    axs[i].set_xlim([0, 250])\n",
    "    i = i + 1"
   ]
  },
  {
   "cell_type": "code",
   "execution_count": 9,
   "id": "otherwise-result",
   "metadata": {},
   "outputs": [
    {
     "data": {
      "text/plain": [
       "OGG --> HNL    13248\n",
       "HNL --> OGG    12897\n",
       "SFO --> LAX    11843\n",
       "LAX --> SFO    11816\n",
       "LAX --> SAN    10932\n",
       "               ...  \n",
       "ALB --> ATL     1002\n",
       "ORD --> SAV     1002\n",
       "DFW --> ACT     1001\n",
       "CAK --> ORD     1001\n",
       "HSV --> DFW     1001\n",
       "Name: ROUTE, Length: 2077, dtype: int64"
      ]
     },
     "execution_count": 9,
     "metadata": {},
     "output_type": "execute_result"
    }
   ],
   "source": [
    "df.ROUTE.value_counts()"
   ]
  },
  {
   "cell_type": "code",
   "execution_count": 10,
   "id": "about-delight",
   "metadata": {},
   "outputs": [
    {
     "data": {
      "text/plain": [
       "637"
      ]
     },
     "execution_count": 10,
     "metadata": {},
     "output_type": "execute_result"
    }
   ],
   "source": [
    "df['ACTUAL_ELAPSED_TIME'].max()"
   ]
  },
  {
   "cell_type": "code",
   "execution_count": 11,
   "id": "brave-vessel",
   "metadata": {},
   "outputs": [],
   "source": [
    "class Probability_Distribution:\n",
    "    def __init__(self, dataframe, route, field, is_null = False):\n",
    "        if is_null:\n",
    "            self.PDF = []\n",
    "            self.CDF = []\n",
    "            self.route = route\n",
    "            self.field = field\n",
    "            self.total_flights = 0\n",
    "            self.max_field_value = 0\n",
    "        else:\n",
    "            PDF = [] # index refers to the field value. i.e., 10 minute flight at index 10\n",
    "            CDF = [] # Cumulative version of PDF\n",
    "            max_field_value = dataframe[field].max()\n",
    "            route_dataframe = dataframe[dataframe['ROUTE'] == route]\n",
    "            c = 0\n",
    "            for i in range(max_field_value + 1):\n",
    "                p = route_dataframe[route_dataframe[field] == i].shape[0]\n",
    "                c = c + p\n",
    "                PDF.append(p)\n",
    "                CDF.append(c)\n",
    "            total_flights = sum(PDF)\n",
    "            PDF = [p / total_flights for p in PDF]\n",
    "            CDF = [c / total_flights for c in CDF]\n",
    "            self.PDF = np.array(PDF)\n",
    "            self.CDF = np.array(CDF)\n",
    "            self.route = route\n",
    "            self.field = field\n",
    "            self.total_flights = total_flights\n",
    "            self.max_field_value = max_field_value"
   ]
  },
  {
   "cell_type": "code",
   "execution_count": 12,
   "id": "expensive-panama",
   "metadata": {},
   "outputs": [],
   "source": [
    "# class Probability_Distribution_Cluster:\n",
    "#     def __init__(self,):\n",
    "        "
   ]
  },
  {
   "cell_type": "code",
   "execution_count": 13,
   "id": "surgical-nerve",
   "metadata": {},
   "outputs": [],
   "source": [
    "def EarthMoversDistance(P_Dist_A,P_Dist_B):\n",
    "    return sum([abs(a_i - b_i) for a_i, b_i in zip(P_Dist_A.CDF, P_Dist_B.CDF)])"
   ]
  },
  {
   "cell_type": "code",
   "execution_count": 14,
   "id": "incident-twelve",
   "metadata": {},
   "outputs": [],
   "source": [
    "def GetCentroidDistribution(P_Dist_List):\n",
    "    max_field_value = P_Dist_List[0].max_field_value\n",
    "    field = P_Dist_List[0].field\n",
    "    route = 'Centroid'\n",
    "    total_flights = 0\n",
    "    agg_list = np.zeros(max_field_value + 1)\n",
    "    for P_Dist in P_Dist_List:\n",
    "        agg_list = np.add(agg_list,P_Dist.PDF)\n",
    "        total_flights = total_flights + P_Dist.total_flights\n",
    "    PDF = agg_list / len(P_Dist_List)\n",
    "    centroid_dist = Probability_Distribution(pd.DataFrame(), route, field, True)\n",
    "    centroid_dist.PDF = PDF\n",
    "    centroid_dist.CDF = np.cumsum(PDF)\n",
    "    centroid_dist.route = route\n",
    "    centroid_dist.field = field\n",
    "    centroid_dist.total_flights = total_flights\n",
    "    centroid_dist.max_field_value = max_field_value\n",
    "    return centroid_dist"
   ]
  },
  {
   "cell_type": "code",
   "execution_count": 15,
   "id": "simplified-sydney",
   "metadata": {},
   "outputs": [],
   "source": [
    "x = Probability_Distribution(df, \"OGG --> HNL\", \"ACTUAL_ELAPSED_TIME\")"
   ]
  },
  {
   "cell_type": "code",
   "execution_count": 16,
   "id": "joined-transcript",
   "metadata": {},
   "outputs": [
    {
     "name": "stdout",
     "output_type": "stream",
     "text": [
      "2077 of 2077: HRL --> IAH\n"
     ]
    }
   ],
   "source": [
    "Probability_Distribution_List = []\n",
    "i = 1\n",
    "last = len(df.ROUTE.unique())\n",
    "for route in df.ROUTE.unique(): #[:100]:\n",
    "    print(f\"{i} of {last}: {route}\")\n",
    "    i = i + 1\n",
    "    Probability_Distribution_List.append(Probability_Distribution(df, route, \"ACTUAL_ELAPSED_TIME\"))\n",
    "    clear_output(wait=True)"
   ]
  },
  {
   "cell_type": "code",
   "execution_count": 17,
   "id": "affecting-robinson",
   "metadata": {},
   "outputs": [],
   "source": [
    "# for i in range(5):\n",
    "#     for j in range(5):\n",
    "#         EMD = EarthMoversDistance(Probability_Distribution_List[i],Probability_Distribution_List[j])\n",
    "#         print(f\"EMD({i},{j}) = {EMD}\")\n",
    "\n"
   ]
  },
  {
   "cell_type": "code",
   "execution_count": 18,
   "id": "annoying-surrey",
   "metadata": {},
   "outputs": [],
   "source": [
    "# Centroid_Dist = CentroidDistribution(Probability_Distribution_List)"
   ]
  },
  {
   "cell_type": "code",
   "execution_count": 19,
   "id": "right-bread",
   "metadata": {},
   "outputs": [
    {
     "ename": "NameError",
     "evalue": "name 'Centroid_Dist' is not defined",
     "output_type": "error",
     "traceback": [
      "\u001b[0;31m---------------------------------------------------------------------------\u001b[0m",
      "\u001b[0;31mNameError\u001b[0m                                 Traceback (most recent call last)",
      "\u001b[0;32m<ipython-input-19-ac7eb13cb762>\u001b[0m in \u001b[0;36m<module>\u001b[0;34m\u001b[0m\n\u001b[1;32m      1\u001b[0m \u001b[0;32mfor\u001b[0m \u001b[0mP_Dist\u001b[0m \u001b[0;32min\u001b[0m \u001b[0mProbability_Distribution_List\u001b[0m\u001b[0;34m:\u001b[0m\u001b[0;34m\u001b[0m\u001b[0;34m\u001b[0m\u001b[0m\n\u001b[1;32m      2\u001b[0m     \u001b[0mplt\u001b[0m\u001b[0;34m.\u001b[0m\u001b[0mplot\u001b[0m\u001b[0;34m(\u001b[0m\u001b[0mrange\u001b[0m\u001b[0;34m(\u001b[0m\u001b[0mP_Dist\u001b[0m\u001b[0;34m.\u001b[0m\u001b[0mmax_field_value\u001b[0m \u001b[0;34m+\u001b[0m \u001b[0;36m1\u001b[0m\u001b[0;34m)\u001b[0m\u001b[0;34m,\u001b[0m\u001b[0mP_Dist\u001b[0m\u001b[0;34m.\u001b[0m\u001b[0mCDF\u001b[0m\u001b[0;34m,\u001b[0m\u001b[0mcolor\u001b[0m\u001b[0;34m=\u001b[0m\u001b[0;34m'skyblue'\u001b[0m\u001b[0;34m)\u001b[0m\u001b[0;34m\u001b[0m\u001b[0;34m\u001b[0m\u001b[0m\n\u001b[0;32m----> 3\u001b[0;31m \u001b[0mplt\u001b[0m\u001b[0;34m.\u001b[0m\u001b[0mplot\u001b[0m\u001b[0;34m(\u001b[0m\u001b[0mrange\u001b[0m\u001b[0;34m(\u001b[0m\u001b[0mCentroid_Dist\u001b[0m\u001b[0;34m.\u001b[0m\u001b[0mmax_field_value\u001b[0m \u001b[0;34m+\u001b[0m \u001b[0;36m1\u001b[0m\u001b[0;34m)\u001b[0m\u001b[0;34m,\u001b[0m\u001b[0mCentroid_Dist\u001b[0m\u001b[0;34m.\u001b[0m\u001b[0mCDF\u001b[0m\u001b[0;34m,\u001b[0m\u001b[0mcolor\u001b[0m \u001b[0;34m=\u001b[0m \u001b[0;34m'black'\u001b[0m\u001b[0;34m)\u001b[0m\u001b[0;34m\u001b[0m\u001b[0;34m\u001b[0m\u001b[0m\n\u001b[0m\u001b[1;32m      4\u001b[0m \u001b[0mplt\u001b[0m\u001b[0;34m.\u001b[0m\u001b[0mshow\u001b[0m\u001b[0;34m(\u001b[0m\u001b[0;34m)\u001b[0m\u001b[0;34m\u001b[0m\u001b[0;34m\u001b[0m\u001b[0m\n",
      "\u001b[0;31mNameError\u001b[0m: name 'Centroid_Dist' is not defined"
     ]
    },
    {
     "data": {
      "image/png": "[encoded data removed]",
      "text/plain": [
       "<Figure size 432x288 with 1 Axes>"
      ]
     },
     "metadata": {
      "needs_background": "light"
     },
     "output_type": "display_data"
    }
   ],
   "source": [
    "# for P_Dist in Probability_Distribution_List:\n",
    "#     plt.plot(range(P_Dist.max_field_value + 1),P_Dist.CDF,color='skyblue')\n",
    "# plt.plot(range(Centroid_Dist.max_field_value + 1),Centroid_Dist.CDF,color = 'black')\n",
    "# plt.show()"
   ]
  },
  {
   "cell_type": "code",
   "execution_count": 20,
   "id": "amateur-korea",
   "metadata": {},
   "outputs": [],
   "source": [
    "def GetMinEMDSquared(P_Dist,ClusterCenterList):\n",
    "    EMD_Squared_List = []\n",
    "    for ClusterCenter in ClusterCenterList:\n",
    "        EMD_Squared_List.append(EarthMoversDistance(P_Dist, ClusterCenter) ** 2)\n",
    "    return min(EMD_Squared_List)"
   ]
  },
  {
   "cell_type": "code",
   "execution_count": 21,
   "id": "mexican-stanley",
   "metadata": {},
   "outputs": [],
   "source": [
    "def GetMinEMDSquaredList(P_Dist_List,ClusterCenterList):\n",
    "    Min_EMD_Squared_List = []\n",
    "    for P_Dist in P_Dist_List:\n",
    "        Min_EMD_Squared_List.append(GetMinEMDSquared(P_Dist,ClusterCenterList))\n",
    "    return Min_EMD_Squared_List"
   ]
  },
  {
   "cell_type": "code",
   "execution_count": 22,
   "id": "ongoing-albuquerque",
   "metadata": {},
   "outputs": [],
   "source": [
    "def GetInitialEPMeansClusterCenters(P_Dist_List,k):\n",
    "    InitialEPMeansClusterCenters = []\n",
    "    init_dist = random.choice(P_Dist_List)\n",
    "    P_Dist_List.remove(init_dist)\n",
    "    InitialEPMeansClusterCenters.append(init_dist)\n",
    "    while len(InitialEPMeansClusterCenters) < k:\n",
    "        MinEMDSquaredList = GetMinEMDSquaredList(P_Dist_List,InitialEPMeansClusterCenters)\n",
    "        new_cluster_center = random.choices(P_Dist_List, weights = MinEMDSquaredList)[0]\n",
    "        P_Dist_List.remove(new_cluster_center)\n",
    "        InitialEPMeansClusterCenters.append(new_cluster_center)\n",
    "    return InitialEPMeansClusterCenters"
   ]
  },
  {
   "cell_type": "code",
   "execution_count": 23,
   "id": "portuguese-court",
   "metadata": {},
   "outputs": [],
   "source": [
    "def GetClusterList(P_Dist_List,ClusterCenters):\n",
    "    ClusterList = []\n",
    "    for ClusterCenter in ClusterCenters:\n",
    "        Cluster = []\n",
    "        for P_Dist in P_Dist_List:\n",
    "            min_EMD = min([EarthMoversDistance(P_Dist,x) for x in ClusterCenters])\n",
    "            if EarthMoversDistance(P_Dist,ClusterCenter) == min_EMD:\n",
    "                Cluster.append(P_Dist)\n",
    "        ClusterList.append(Cluster)\n",
    "    return ClusterList"
   ]
  },
  {
   "cell_type": "code",
   "execution_count": 24,
   "id": "piano-dryer",
   "metadata": {},
   "outputs": [],
   "source": [
    "def EPMeans(P_Dist_List,k):\n",
    "    ClusterCenters = GetInitialEPMeansClusterCenters(P_Dist_List,k)\n",
    "    ClusterList = GetClusterList(P_Dist_List,ClusterCenters)\n",
    "    isDone = False\n",
    "    while(not isDone):\n",
    "        NewClusterCenters = []\n",
    "        for Cluster in ClusterList:\n",
    "            NewClusterCenters.append(GetCentroidDistribution(Cluster))\n",
    "        NewClusterList = GetClusterList(P_Dist_List,NewClusterCenters)\n",
    "        if ClusterList == NewClusterList:\n",
    "            isDone = True\n",
    "        else:\n",
    "            ClusterList = NewClusterList\n",
    "            ClusterCenters = NewClusterCenters\n",
    "    return ClusterList"
   ]
  },
  {
   "cell_type": "code",
   "execution_count": 25,
   "id": "adapted-portsmouth",
   "metadata": {},
   "outputs": [
    {
     "ename": "KeyboardInterrupt",
     "evalue": "",
     "output_type": "error",
     "traceback": [
      "\u001b[0;31m---------------------------------------------------------------------------\u001b[0m",
      "\u001b[0;31mKeyboardInterrupt\u001b[0m                         Traceback (most recent call last)",
      "\u001b[0;32m<ipython-input-25-59cdb309feb8>\u001b[0m in \u001b[0;36m<module>\u001b[0;34m\u001b[0m\n\u001b[0;32m----> 1\u001b[0;31m \u001b[0mEP\u001b[0m \u001b[0;34m=\u001b[0m \u001b[0mEPMeans\u001b[0m\u001b[0;34m(\u001b[0m\u001b[0mProbability_Distribution_List\u001b[0m\u001b[0;34m,\u001b[0m\u001b[0;36m5\u001b[0m\u001b[0;34m)\u001b[0m\u001b[0;34m\u001b[0m\u001b[0;34m\u001b[0m\u001b[0m\n\u001b[0m",
      "\u001b[0;32m<ipython-input-24-8ab7493266e6>\u001b[0m in \u001b[0;36mEPMeans\u001b[0;34m(P_Dist_List, k)\u001b[0m\n\u001b[1;32m      1\u001b[0m \u001b[0;32mdef\u001b[0m \u001b[0mEPMeans\u001b[0m\u001b[0;34m(\u001b[0m\u001b[0mP_Dist_List\u001b[0m\u001b[0;34m,\u001b[0m\u001b[0mk\u001b[0m\u001b[0;34m)\u001b[0m\u001b[0;34m:\u001b[0m\u001b[0;34m\u001b[0m\u001b[0;34m\u001b[0m\u001b[0m\n\u001b[1;32m      2\u001b[0m     \u001b[0mClusterCenters\u001b[0m \u001b[0;34m=\u001b[0m \u001b[0mGetInitialEPMeansClusterCenters\u001b[0m\u001b[0;34m(\u001b[0m\u001b[0mP_Dist_List\u001b[0m\u001b[0;34m,\u001b[0m\u001b[0mk\u001b[0m\u001b[0;34m)\u001b[0m\u001b[0;34m\u001b[0m\u001b[0;34m\u001b[0m\u001b[0m\n\u001b[0;32m----> 3\u001b[0;31m     \u001b[0mClusterList\u001b[0m \u001b[0;34m=\u001b[0m \u001b[0mGetClusterList\u001b[0m\u001b[0;34m(\u001b[0m\u001b[0mP_Dist_List\u001b[0m\u001b[0;34m,\u001b[0m\u001b[0mClusterCenters\u001b[0m\u001b[0;34m)\u001b[0m\u001b[0;34m\u001b[0m\u001b[0;34m\u001b[0m\u001b[0m\n\u001b[0m\u001b[1;32m      4\u001b[0m     \u001b[0misDone\u001b[0m \u001b[0;34m=\u001b[0m \u001b[0;32mFalse\u001b[0m\u001b[0;34m\u001b[0m\u001b[0;34m\u001b[0m\u001b[0m\n\u001b[1;32m      5\u001b[0m     \u001b[0;32mwhile\u001b[0m\u001b[0;34m(\u001b[0m\u001b[0;32mnot\u001b[0m \u001b[0misDone\u001b[0m\u001b[0;34m)\u001b[0m\u001b[0;34m:\u001b[0m\u001b[0;34m\u001b[0m\u001b[0;34m\u001b[0m\u001b[0m\n",
      "\u001b[0;32m<ipython-input-23-b7507638ae62>\u001b[0m in \u001b[0;36mGetClusterList\u001b[0;34m(P_Dist_List, ClusterCenters)\u001b[0m\n\u001b[1;32m      5\u001b[0m         \u001b[0;32mfor\u001b[0m \u001b[0mP_Dist\u001b[0m \u001b[0;32min\u001b[0m \u001b[0mP_Dist_List\u001b[0m\u001b[0;34m:\u001b[0m\u001b[0;34m\u001b[0m\u001b[0;34m\u001b[0m\u001b[0m\n\u001b[1;32m      6\u001b[0m             \u001b[0mmin_EMD\u001b[0m \u001b[0;34m=\u001b[0m \u001b[0mmin\u001b[0m\u001b[0;34m(\u001b[0m\u001b[0;34m[\u001b[0m\u001b[0mEarthMoversDistance\u001b[0m\u001b[0;34m(\u001b[0m\u001b[0mP_Dist\u001b[0m\u001b[0;34m,\u001b[0m\u001b[0mx\u001b[0m\u001b[0;34m)\u001b[0m \u001b[0;32mfor\u001b[0m \u001b[0mx\u001b[0m \u001b[0;32min\u001b[0m \u001b[0mClusterCenters\u001b[0m\u001b[0;34m]\u001b[0m\u001b[0;34m)\u001b[0m\u001b[0;34m\u001b[0m\u001b[0;34m\u001b[0m\u001b[0m\n\u001b[0;32m----> 7\u001b[0;31m             \u001b[0;32mif\u001b[0m \u001b[0mEarthMoversDistance\u001b[0m\u001b[0;34m(\u001b[0m\u001b[0mP_Dist\u001b[0m\u001b[0;34m,\u001b[0m\u001b[0mClusterCenter\u001b[0m\u001b[0;34m)\u001b[0m \u001b[0;34m==\u001b[0m \u001b[0mmin_EMD\u001b[0m\u001b[0;34m:\u001b[0m\u001b[0;34m\u001b[0m\u001b[0;34m\u001b[0m\u001b[0m\n\u001b[0m\u001b[1;32m      8\u001b[0m                 \u001b[0mCluster\u001b[0m\u001b[0;34m.\u001b[0m\u001b[0mappend\u001b[0m\u001b[0;34m(\u001b[0m\u001b[0mP_Dist\u001b[0m\u001b[0;34m)\u001b[0m\u001b[0;34m\u001b[0m\u001b[0;34m\u001b[0m\u001b[0m\n\u001b[1;32m      9\u001b[0m         \u001b[0mClusterList\u001b[0m\u001b[0;34m.\u001b[0m\u001b[0mappend\u001b[0m\u001b[0;34m(\u001b[0m\u001b[0mCluster\u001b[0m\u001b[0;34m)\u001b[0m\u001b[0;34m\u001b[0m\u001b[0;34m\u001b[0m\u001b[0m\n",
      "\u001b[0;32m<ipython-input-13-2e28e4fee9c2>\u001b[0m in \u001b[0;36mEarthMoversDistance\u001b[0;34m(P_Dist_A, P_Dist_B)\u001b[0m\n\u001b[1;32m      1\u001b[0m \u001b[0;32mdef\u001b[0m \u001b[0mEarthMoversDistance\u001b[0m\u001b[0;34m(\u001b[0m\u001b[0mP_Dist_A\u001b[0m\u001b[0;34m,\u001b[0m\u001b[0mP_Dist_B\u001b[0m\u001b[0;34m)\u001b[0m\u001b[0;34m:\u001b[0m\u001b[0;34m\u001b[0m\u001b[0;34m\u001b[0m\u001b[0m\n\u001b[0;32m----> 2\u001b[0;31m     \u001b[0;32mreturn\u001b[0m \u001b[0msum\u001b[0m\u001b[0;34m(\u001b[0m\u001b[0;34m[\u001b[0m\u001b[0mabs\u001b[0m\u001b[0;34m(\u001b[0m\u001b[0ma_i\u001b[0m \u001b[0;34m-\u001b[0m \u001b[0mb_i\u001b[0m\u001b[0;34m)\u001b[0m \u001b[0;32mfor\u001b[0m \u001b[0ma_i\u001b[0m\u001b[0;34m,\u001b[0m \u001b[0mb_i\u001b[0m \u001b[0;32min\u001b[0m \u001b[0mzip\u001b[0m\u001b[0;34m(\u001b[0m\u001b[0mP_Dist_A\u001b[0m\u001b[0;34m.\u001b[0m\u001b[0mCDF\u001b[0m\u001b[0;34m,\u001b[0m \u001b[0mP_Dist_B\u001b[0m\u001b[0;34m.\u001b[0m\u001b[0mCDF\u001b[0m\u001b[0;34m)\u001b[0m\u001b[0;34m]\u001b[0m\u001b[0;34m)\u001b[0m\u001b[0;34m\u001b[0m\u001b[0;34m\u001b[0m\u001b[0m\n\u001b[0m",
      "\u001b[0;32m<ipython-input-13-2e28e4fee9c2>\u001b[0m in \u001b[0;36m<listcomp>\u001b[0;34m(.0)\u001b[0m\n\u001b[1;32m      1\u001b[0m \u001b[0;32mdef\u001b[0m \u001b[0mEarthMoversDistance\u001b[0m\u001b[0;34m(\u001b[0m\u001b[0mP_Dist_A\u001b[0m\u001b[0;34m,\u001b[0m\u001b[0mP_Dist_B\u001b[0m\u001b[0;34m)\u001b[0m\u001b[0;34m:\u001b[0m\u001b[0;34m\u001b[0m\u001b[0;34m\u001b[0m\u001b[0m\n\u001b[0;32m----> 2\u001b[0;31m     \u001b[0;32mreturn\u001b[0m \u001b[0msum\u001b[0m\u001b[0;34m(\u001b[0m\u001b[0;34m[\u001b[0m\u001b[0mabs\u001b[0m\u001b[0;34m(\u001b[0m\u001b[0ma_i\u001b[0m \u001b[0;34m-\u001b[0m \u001b[0mb_i\u001b[0m\u001b[0;34m)\u001b[0m \u001b[0;32mfor\u001b[0m \u001b[0ma_i\u001b[0m\u001b[0;34m,\u001b[0m \u001b[0mb_i\u001b[0m \u001b[0;32min\u001b[0m \u001b[0mzip\u001b[0m\u001b[0;34m(\u001b[0m\u001b[0mP_Dist_A\u001b[0m\u001b[0;34m.\u001b[0m\u001b[0mCDF\u001b[0m\u001b[0;34m,\u001b[0m \u001b[0mP_Dist_B\u001b[0m\u001b[0;34m.\u001b[0m\u001b[0mCDF\u001b[0m\u001b[0;34m)\u001b[0m\u001b[0;34m]\u001b[0m\u001b[0;34m)\u001b[0m\u001b[0;34m\u001b[0m\u001b[0;34m\u001b[0m\u001b[0m\n\u001b[0m",
      "\u001b[0;31mKeyboardInterrupt\u001b[0m: "
     ]
    }
   ],
   "source": [
    "EP = EPMeans(Probability_Distribution_List,5)"
   ]
  },
  {
   "cell_type": "code",
   "execution_count": null,
   "id": "industrial-thermal",
   "metadata": {},
   "outputs": [],
   "source": [
    "plt.rcParams[\"figure.figsize\"] = (20,2)\n",
    "\n",
    "# EP = EPMeans(Probability_Distribution_List,5)\n",
    "\n",
    "for cluster in EP:\n",
    "    for P_Dist in cluster:\n",
    "        plt.plot(range(P_Dist.max_field_value + 1),P_Dist.CDF,color='skyblue')\n",
    "    plt.plot(range(GetCentroidDistribution(cluster).max_field_value + 1),GetCentroidDistribution(cluster).CDF,color = 'black')\n",
    "    plt.xlim([0, 200])\n",
    "    plt.show()"
   ]
  },
  {
   "cell_type": "code",
   "execution_count": null,
   "id": "specified-bumper",
   "metadata": {},
   "outputs": [],
   "source": []
  }
 ],
 "metadata": {
  "kernelspec": {
   "display_name": "Python 3",
   "language": "python",
   "name": "python3"
  },
  "language_info": {
   "codemirror_mode": {
    "name": "ipython",
    "version": 3
   },
   "file_extension": ".py",
   "mimetype": "text/x-python",
   "name": "python",
   "nbconvert_exporter": "python",
   "pygments_lexer": "ipython3",
   "version": "3.7.9"
  }
 },
 "nbformat": 4,
 "nbformat_minor": 5
}
